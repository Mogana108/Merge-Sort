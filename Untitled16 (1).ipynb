{
  "nbformat": 4,
  "nbformat_minor": 0,
  "metadata": {
    "colab": {
      "name": "Untitled16.ipynb",
      "provenance": []
    },
    "kernelspec": {
      "name": "python3",
      "display_name": "Python 3"
    },
    "language_info": {
      "name": "python"
    }
  },
  "cells": [
    {
      "cell_type": "code",
      "execution_count": 2,
      "metadata": {
        "colab": {
          "base_uri": "https://localhost:8080/"
        },
        "id": "qOJyQFTZbfsV",
        "outputId": "79ae0075-2a27-4a4f-a036-eefae4713afe"
      },
      "outputs": [
        {
          "output_type": "stream",
          "name": "stdout",
          "text": [
            "[1, 2, 3, 7, 10, 14, 23, 44, 48, 57, 58, 65, 74]\n"
          ]
        }
      ],
      "source": [
        "def merge_sort(list1, left_index, right_index):  \n",
        "    if left_index >= right_index:  \n",
        "        return  \n",
        "  \n",
        "    middle = (left_index + right_index)//2  \n",
        "    merge_sort(list1, left_index, middle)  \n",
        "    merge_sort(list1, middle + 1, right_index)  \n",
        "    merge(list1, left_index, right_index, middle)  \n",
        "  \n",
        "  \n",
        "    # Defining a function for merge the list  \n",
        "def merge(list1, left_index, right_index, middle):  \n",
        "  \n",
        "  \n",
        "   # Creating subparts of a lists  \n",
        "    left_sublist = list1[left_index:middle + 1]  \n",
        "    right_sublist = list1[middle+1:right_index+1]  \n",
        "  \n",
        "    # Initial values for variables that we use to keep  \n",
        "    # track of where we are in each list1  \n",
        "    left_sublist_index = 0  \n",
        "    right_sublist_index = 0  \n",
        "    sorted_index = left_index  \n",
        "  \n",
        "    # traverse both copies until we get run out one element  \n",
        "    while left_sublist_index < len(left_sublist) and right_sublist_index < len(right_sublist):  \n",
        "  \n",
        "        # If our left_sublist has the smaller element, put it in the sorted  \n",
        "        # part and then move forward in left_sublist (by increasing the pointer)  \n",
        "        if left_sublist[left_sublist_index] <= right_sublist[right_sublist_index]:  \n",
        "            list1[sorted_index] = left_sublist[left_sublist_index]  \n",
        "            left_sublist_index = left_sublist_index + 1  \n",
        "        # Otherwise add it into the right sublist  \n",
        "        else:  \n",
        "            list1[sorted_index] = right_sublist[right_sublist_index]  \n",
        "            right_sublist_index = right_sublist_index + 1  \n",
        "  \n",
        "  \n",
        "        # move forward in the sorted part  \n",
        "        sorted_index = sorted_index + 1  \n",
        "  \n",
        "       \n",
        "    # we will go through the remaining elements and add them  \n",
        "    while left_sublist_index < len(left_sublist):  \n",
        "        list1[sorted_index] = left_sublist[left_sublist_index]  \n",
        "        left_sublist_index = left_sublist_index + 1  \n",
        "        sorted_index = sorted_index + 1  \n",
        "  \n",
        "    while right_sublist_index < len(right_sublist):  \n",
        "        list1[sorted_index] = right_sublist[right_sublist_index]  \n",
        "        right_sublist_index = right_sublist_index + 1  \n",
        "        sorted_index = sorted_index + 1  \n",
        "  \n",
        "list1 = [44, 65, 2, 3, 58, 14, 57, 23, 10, 1, 7, 74, 48]  \n",
        "merge_sort(list1, 0, len(list1) -1)  \n",
        "print(list1)  "
      ]
    }
  ]
}